{
 "cells": [
  {
   "cell_type": "code",
   "execution_count": 1,
   "metadata": {
    "collapsed": true
   },
   "outputs": [],
   "source": [
    "import tensorflow as tf\n",
    "from utils import *\n",
    "%matplotlib inline\n",
    "import matplotlib.pyplot as plt\n",
    "slim = tf.contrib.slim"
   ]
  },
  {
   "cell_type": "code",
   "execution_count": 2,
   "metadata": {
    "collapsed": true
   },
   "outputs": [],
   "source": [
    "image_height = 28\n",
    "image_weight = 28\n",
    "channels = 1\n",
    "batch_size = 64\n",
    "z_dim = 128\n",
    "lr = 0.0001\n",
    "num_epochs = 20\n",
    "X_images = tf.placeholder(tf.float32, shape=[batch_size, image_height, image_weight, channels])\n",
    "noise_z = tf.placeholder(tf.float32, shape=[batch_size, z_dim])\n",
    "dataset_name = 'fashion-mnist'"
   ]
  },
  {
   "cell_type": "code",
   "execution_count": 3,
   "metadata": {
    "collapsed": true
   },
   "outputs": [],
   "source": [
    "images, _ = load_mnist(dataset_name)\n",
    "num_batches = len(images) // batch_size"
   ]
  },
  {
   "cell_type": "code",
   "execution_count": 4,
   "metadata": {
    "collapsed": true
   },
   "outputs": [],
   "source": [
    "def generator(z, reuse):\n",
    "    repeat_time = 2\n",
    "    channel = 128\n",
    "    with tf.variable_scope(\"G\", reuse=reuse) as vs:\n",
    "        x = slim.fully_connected(z, 7*7*z_dim, activation_fn=None)\n",
    "        x = tf.reshape(x, [-1, 7, 7, z_dim])\n",
    "        for i in range(repeat_time):\n",
    "            x = slim.conv2d(x, channel, 3, 1, activation_fn=tf.nn.elu)\n",
    "            x = slim.conv2d(x, channel, 3, 1, activation_fn=tf.nn.elu)\n",
    "            x = slim.conv2d_transpose(x, channel, [3, 3], [2, 2])\n",
    "        output_image = slim.conv2d(x, 1, 3, 1, activation_fn=None)\n",
    "    variables = tf.contrib.framework.get_variables(vs)\n",
    "    return output_image, variables"
   ]
  },
  {
   "cell_type": "code",
   "execution_count": 5,
   "metadata": {
    "collapsed": true
   },
   "outputs": [],
   "source": [
    "def discriminator(x):\n",
    "    repeat_time = 3\n",
    "    channel = 128\n",
    "    with tf.variable_scope(\"D\") as vs:\n",
    "        for i in range(repeat_time):\n",
    "            x = slim.conv2d(x, channel, 3, 1, activation_fn=tf.nn.elu)\n",
    "            x = slim.conv2d(x, channel, 3, 1, activation_fn=tf.nn.elu)\n",
    "            if i < repeat_time - 1:\n",
    "                x = slim.conv2d(x, channel, 3, 2, activation_fn=tf.nn.elu)\n",
    "        x = tf.reshape(x, [-1, 7*7*128])\n",
    "        logit = slim.fully_connected(x, 1, activation_fn=None)\n",
    "        prob = tf.nn.sigmoid(logit)\n",
    "        variables = tf.contrib.framework.get_variables(vs)\n",
    "        return prob, logit, variables"
   ]
  },
  {
   "cell_type": "code",
   "execution_count": 6,
   "metadata": {
    "collapsed": true
   },
   "outputs": [],
   "source": [
    "def build_model():\n",
    "    G_sample, G_var = generator(noise_z, reuse=False)\n",
    "    fake_images, _ = generator(noise_z, reuse=True)\n",
    "    _, D_logit, D_var= discriminator(tf.concat([G_sample, X_images], 0))\n",
    "    D_logit_fake, D_logit_real = tf.split(D_logit, 2)\n",
    "    D_loss_real = tf.reduce_mean(tf.nn.sigmoid_cross_entropy_with_logits(logits=D_logit_real, labels=tf.ones_like(D_logit_real)))\n",
    "    D_loss_fake = tf.reduce_mean(tf.nn.sigmoid_cross_entropy_with_logits(logits=D_logit_fake, labels=tf.zeros_like(D_logit_fake)))\n",
    "    D_loss = D_loss_real + D_loss_fake\n",
    "    G_loss = tf.reduce_mean(tf.nn.sigmoid_cross_entropy_with_logits(logits=D_logit_fake, labels=tf.ones_like(D_logit_fake)))\n",
    "    D_solver = tf.train.AdamOptimizer(lr).minimize(D_loss, var_list=D_var)\n",
    "    G_solver = tf.train.AdamOptimizer(lr).minimize(G_loss, var_list=G_var)\n",
    "    return D_solver, G_solver, D_loss, G_loss, fake_images"
   ]
  },
  {
   "cell_type": "code",
   "execution_count": 7,
   "metadata": {
    "collapsed": false
   },
   "outputs": [
    {
     "name": "stdout",
     "output_type": "stream",
     "text": [
      "Epoch: [ 0] [   0/1093] d_loss: 1.39844036, g_loss: 0.69641685\n",
      "Epoch: [ 0] [ 800/1093] d_loss: 2.41087151, g_loss: 1.72046113\n",
      "Epoch: [ 1] [   0/1093] d_loss: 3.78137469, g_loss: 1.09098673\n",
      "Epoch: [ 1] [ 800/1093] d_loss: 0.74484754, g_loss: 2.19498754\n",
      "Epoch: [ 2] [   0/1093] d_loss: 0.53854728, g_loss: 3.79732418\n",
      "Epoch: [ 2] [ 800/1093] d_loss: 0.44988066, g_loss: 2.44287539\n",
      "Epoch: [ 3] [   0/1093] d_loss: 0.64357638, g_loss: 2.99442577\n",
      "Epoch: [ 3] [ 800/1093] d_loss: 0.43899322, g_loss: 2.68631077\n",
      "Epoch: [ 4] [   0/1093] d_loss: 0.58883405, g_loss: 2.92850399\n",
      "Epoch: [ 4] [ 800/1093] d_loss: 0.47825223, g_loss: 3.77296209\n",
      "Epoch: [ 5] [   0/1093] d_loss: 0.57612932, g_loss: 2.37538147\n",
      "Epoch: [ 5] [ 800/1093] d_loss: 0.29628956, g_loss: 2.70098472\n",
      "Epoch: [ 6] [   0/1093] d_loss: 0.80401433, g_loss: 2.98747897\n",
      "Epoch: [ 6] [ 800/1093] d_loss: 0.32920864, g_loss: 3.13400602\n",
      "Epoch: [ 7] [   0/1093] d_loss: 0.57979226, g_loss: 2.64192414\n",
      "Epoch: [ 7] [ 800/1093] d_loss: 0.36426809, g_loss: 2.93388796\n",
      "Epoch: [ 8] [   0/1093] d_loss: 0.43486452, g_loss: 2.81071901\n",
      "Epoch: [ 8] [ 800/1093] d_loss: 0.42306170, g_loss: 3.00852227\n",
      "Epoch: [ 9] [   0/1093] d_loss: 0.28449273, g_loss: 3.46854496\n",
      "Epoch: [ 9] [ 800/1093] d_loss: 0.24867803, g_loss: 3.81555986\n",
      "Epoch: [10] [   0/1093] d_loss: 0.30706179, g_loss: 3.37183762\n",
      "Epoch: [10] [ 800/1093] d_loss: 0.32795107, g_loss: 3.72826934\n",
      "Epoch: [11] [   0/1093] d_loss: 0.28048867, g_loss: 3.97253346\n",
      "Epoch: [11] [ 800/1093] d_loss: 0.30076063, g_loss: 3.69454002\n",
      "Epoch: [12] [   0/1093] d_loss: 0.36962944, g_loss: 3.15746260\n",
      "Epoch: [12] [ 800/1093] d_loss: 0.26411533, g_loss: 3.97934723\n",
      "Epoch: [13] [   0/1093] d_loss: 0.19867839, g_loss: 3.76921654\n",
      "Epoch: [13] [ 800/1093] d_loss: 0.24691519, g_loss: 4.01549149\n",
      "Epoch: [14] [   0/1093] d_loss: 0.28066409, g_loss: 3.98804235\n",
      "Epoch: [14] [ 800/1093] d_loss: 0.21385550, g_loss: 3.66234970\n",
      "Epoch: [15] [   0/1093] d_loss: 0.26343471, g_loss: 4.00312138\n",
      "Epoch: [15] [ 800/1093] d_loss: 0.11941351, g_loss: 4.77994537\n",
      "Epoch: [16] [   0/1093] d_loss: 0.34602308, g_loss: 4.10251713\n",
      "Epoch: [16] [ 800/1093] d_loss: 0.19497253, g_loss: 4.70071125\n",
      "Epoch: [17] [   0/1093] d_loss: 0.16667163, g_loss: 4.04019022\n",
      "Epoch: [17] [ 800/1093] d_loss: 0.12412424, g_loss: 4.90108919\n",
      "Epoch: [18] [   0/1093] d_loss: 0.20566489, g_loss: 4.14710808\n",
      "Epoch: [18] [ 800/1093] d_loss: 0.16229317, g_loss: 4.78267956\n",
      "Epoch: [19] [   0/1093] d_loss: 0.25713426, g_loss: 4.60339642\n",
      "Epoch: [19] [ 800/1093] d_loss: 0.15395963, g_loss: 4.87799978\n"
     ]
    }
   ],
   "source": [
    "D_solver, G_solver, D_loss, G_loss, fake_images = build_model()\n",
    "sess = tf.Session()\n",
    "sess.run(tf.global_variables_initializer())\n",
    "counter = 0\n",
    "g_loss_history = []\n",
    "d_loss_history = []\n",
    "for epoch in range(0, num_epochs):\n",
    "    for idx in range(0, num_batches):\n",
    "        batch_images = images[idx*batch_size:(idx+1)*batch_size]\n",
    "        noise = np.random.uniform(-1., 1., size=[batch_size, z_dim])\n",
    "        _, d_loss = sess.run([D_solver, D_loss], feed_dict={X_images: batch_images, noise_z: noise})\n",
    "        _, g_loss = sess.run([G_solver, G_loss], feed_dict={X_images: batch_images, noise_z: noise})\n",
    "        g_loss_history.append(g_loss)\n",
    "        d_loss_history.append(d_loss)\n",
    "        counter += 1\n",
    "        if np.mod(idx, 800) == 0:\n",
    "            print(\"Epoch: [%2d] [%4d/%4d] d_loss: %.8f, g_loss: %.8f\" % (epoch, idx, num_batches, d_loss, g_loss))\n",
    "        # save training results for every 1000 steps\n",
    "        if np.mod(counter, 1000) == 0:\n",
    "            samples = sess.run(fake_images, feed_dict={noise_z: noise})\n",
    "            manifold_h = int(np.floor(np.sqrt(batch_size)))\n",
    "            manifold_w = int(np.floor(np.sqrt(batch_size)))\n",
    "            save_images(samples[:manifold_h * manifold_w, :, :, :], [manifold_h, manifold_w],\n",
    "                        './results/Vanilla_GAN_Images/'+str(epoch)+'_'+str(idx)+'.png')"
   ]
  },
  {
   "cell_type": "code",
   "execution_count": 8,
   "metadata": {
    "collapsed": false
   },
   "outputs": [
    {
     "data": {
      "text/plain": [
       "[<matplotlib.lines.Line2D at 0x7efcbcf513c8>]"
      ]
     },
     "execution_count": 8,
     "metadata": {},
     "output_type": "execute_result"
    },
    {
     "data": {
      "image/png": "[encoded data removed]",
      "text/plain": [
       "<matplotlib.figure.Figure at 0x7efcc768bd30>"
      ]
     },
     "metadata": {},
     "output_type": "display_data"
    }
   ],
   "source": [
    "plt.plot(d_loss_history)"
   ]
  },
  {
   "cell_type": "code",
   "execution_count": 9,
   "metadata": {
    "collapsed": false
   },
   "outputs": [
    {
     "data": {
      "text/plain": [
       "[<matplotlib.lines.Line2D at 0x7efcbcef22b0>]"
      ]
     },
     "execution_count": 9,
     "metadata": {},
     "output_type": "execute_result"
    },
    {
     "data": {
      "image/png": "[encoded data removed]",
      "text/plain": [
       "<matplotlib.figure.Figure at 0x7efcbcf51e80>"
      ]
     },
     "metadata": {},
     "output_type": "display_data"
    }
   ],
   "source": [
    "plt.plot(g_loss_history)"
   ]
  }
 ],
 "metadata": {
  "kernelspec": {
   "display_name": "Python 3",
   "language": "python",
   "name": "python3"
  },
  "language_info": {
   "codemirror_mode": {
    "name": "ipython",
    "version": 3
   },
   "file_extension": ".py",
   "mimetype": "text/x-python",
   "name": "python",
   "nbconvert_exporter": "python",
   "pygments_lexer": "ipython3",
   "version": "3.4.3"
  }
 },
 "nbformat": 4,
 "nbformat_minor": 0
}
